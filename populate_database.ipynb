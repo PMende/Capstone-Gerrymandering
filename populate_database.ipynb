{
 "cells": [
  {
   "cell_type": "code",
   "execution_count": 3,
   "metadata": {
    "collapsed": false
   },
   "outputs": [],
   "source": [
    "from __future__ import absolute_import, division, print_function\n",
    "from builtins import (\n",
    "    ascii, bytes, chr, dict, filter, hex, input, int, map,\n",
    "    next, oct, open, pow, range, round, str, super, zip)\n",
    "\n",
    "import os\n",
    "import json\n",
    "\n",
    "import psycopg2\n",
    "import gdal\n",
    "import osgeo\n",
    "import geopandas as gp\n",
    "import numpy as np\n",
    "import pandas as pd"
   ]
  },
  {
   "cell_type": "code",
   "execution_count": 98,
   "metadata": {
    "collapsed": false
   },
   "outputs": [],
   "source": [
    "cong_df = pd.read_excel(\n",
    "    'data/raw/2016_all/wi_2016_congress.xlsx', sheetname=list(range(1, 9)))\n",
    "\n",
    "for key in cong_df:\n",
    "    cong_df[key]['WEC Canvass Reporting System'].fillna(method='pad', inplace=True)\n",
    "    cong_df[key]['Unnamed: 3'].fillna(method='bfill', inplace=True)\n",
    "    cong_df[key]['Unnamed: 4'].fillna(method='bfill', inplace=True)\n",
    "    cong_df[key] = cong_df[key][[0, 1, 3, 4]]\n",
    "    cols = list(cong_df[key].iloc[0])\n",
    "    cols[0] = 'COUNTY'\n",
    "    cols[1] = 'WARDS'\n",
    "    rename_dict = {\n",
    "        'WEC Canvass Reporting System': cols[0],\n",
    "        'Unnamed: 1': cols[1],\n",
    "        'Unnamed: 3': cols[2],\n",
    "        'Unnamed: 4': cols[3]\n",
    "    }\n",
    "    cong_df[key].rename(columns=rename_dict, inplace=True)\n",
    "    for party in {'REP', 'DEM'}:\n",
    "        if not party in cong_df[key].columns:\n",
    "            cong_df[key][party] = 0\n",
    "    for col_name in cong_df[key].columns:\n",
    "        if not col_name in {'REP', 'DEM', 'COUNTY', 'WARDS'}:\n",
    "            cong_df[key].drop(col_name, axis=1, inplace=True)\n",
    "    cong_df[key].dropna(inplace=True)\n",
    "    cong_df[key] = cong_df[key][cong_df[key]['WARDS'] != 'County Totals:']"
   ]
  },
  {
   "cell_type": "code",
   "execution_count": 101,
   "metadata": {
    "collapsed": false
   },
   "outputs": [
    {
     "data": {
      "text/plain": [
       "dict"
      ]
     },
     "execution_count": 101,
     "metadata": {},
     "output_type": "execute_result"
    }
   ],
   "source": [
    "type(cong_df)"
   ]
  },
  {
   "cell_type": "code",
   "execution_count": null,
   "metadata": {
    "collapsed": true
   },
   "outputs": [],
   "source": [
    "cong_d"
   ]
  }
 ],
 "metadata": {
  "kernelspec": {
   "display_name": "Python 2",
   "language": "python",
   "name": "python2"
  },
  "language_info": {
   "codemirror_mode": {
    "name": "ipython",
    "version": 2
   },
   "file_extension": ".py",
   "mimetype": "text/x-python",
   "name": "python",
   "nbconvert_exporter": "python",
   "pygments_lexer": "ipython2",
   "version": "2.7.13"
  }
 },
 "nbformat": 4,
 "nbformat_minor": 2
}
