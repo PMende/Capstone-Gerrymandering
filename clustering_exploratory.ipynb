{
 "cells": [
  {
   "cell_type": "code",
   "execution_count": 3,
   "metadata": {
    "collapsed": true
   },
   "outputs": [],
   "source": [
    "from __future__ import absolute_import, division, print_function\n",
    "from builtins import (\n",
    "    ascii, bytes, chr, dict, filter, hex, input, int, map,\n",
    "    next, oct, open, pow, range, round, str, super, zip)\n",
    "\n",
    "import os\n",
    "from itertools import cycle\n",
    "from functools import partial\n",
    "import random\n",
    "from math import pi\n",
    "\n",
    "# Imports for working with shapefiles\n",
    "import pyproj\n",
    "from shapely.geometry import shape, MultiPolygon\n",
    "from shapely.ops import transform\n",
    "from descartes import PolygonPatch\n",
    "import fiona\n",
    "from fiona.crs import from_epsg"
   ]
  },
  {
   "cell_type": "code",
   "execution_count": 23,
   "metadata": {
    "collapsed": true
   },
   "outputs": [],
   "source": [
    "wisc_census_blocks = 'data/blocks/shapes/tl_2010_55_tabblock10.shp'"
   ]
  },
  {
   "cell_type": "code",
   "execution_count": 5,
   "metadata": {
    "collapsed": true
   },
   "outputs": [],
   "source": [
    "project = partial(\n",
    "    pyproj.transform,\n",
    "    pyproj.Proj(init='epsg:4326'), \n",
    "    pyproj.Proj(init='epsg:3695')\n",
    ")"
   ]
  },
  {
   "cell_type": "code",
   "execution_count": 24,
   "metadata": {
    "collapsed": false
   },
   "outputs": [
    {
     "name": "stdout",
     "output_type": "stream",
     "text": [
      "Feature\n",
      "OrderedDict([(u'STATEFP10', u'55'), (u'COUNTYFP10', u'001'), (u'TRACTCE10', u'950501'), (u'BLOCKCE10', u'2114'), (u'GEOID10', u'550019505012114'), (u'NAME10', u'Block 2114'), (u'MTFCC10', u'G5040'), (u'UR10', None), (u'UACE10', None), (u'FUNCSTAT10', u'S'), (u'ALAND10', 14690), (u'AWATER10', 0), (u'INTPTLAT10', u'+43.9232647'), (u'INTPTLON10', u'-089.9286759')])\n"
     ]
    }
   ],
   "source": [
    "n = 200\n",
    "with fiona.open(wisc_census_blocks) as f:\n",
    "    for i, block in enumerate(f):\n",
    "        if i == n:\n",
    "            print(block['type'])\n",
    "            print(block['properties'])\n",
    "        elif i > n:\n",
    "            break"
   ]
  },
  {
   "cell_type": "code",
   "execution_count": null,
   "metadata": {
    "collapsed": true
   },
   "outputs": [],
   "source": []
  }
 ],
 "metadata": {
  "kernelspec": {
   "display_name": "Python 2",
   "language": "python",
   "name": "python2"
  },
  "language_info": {
   "codemirror_mode": {
    "name": "ipython",
    "version": 2
   },
   "file_extension": ".py",
   "mimetype": "text/x-python",
   "name": "python",
   "nbconvert_exporter": "python",
   "pygments_lexer": "ipython2",
   "version": "2.7.13"
  }
 },
 "nbformat": 4,
 "nbformat_minor": 2
}
