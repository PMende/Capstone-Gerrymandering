{
 "cells": [
  {
   "cell_type": "code",
   "execution_count": 38,
   "metadata": {
    "collapsed": true
   },
   "outputs": [],
   "source": [
    "from __future__ import absolute_import, division, print_function\n",
    "from builtins import (\n",
    "    ascii, bytes, chr, dict, filter, hex, input, int, map,\n",
    "    next, oct, open, pow, range, round, str, super, zip)\n",
    "\n",
    "import os\n",
    "from itertools import cycle\n",
    "from functools import partial\n",
    "import random\n",
    "from math import pi\n",
    "\n",
    "import numpy as np\n",
    "from sklearn.cluster import KMeans\n",
    "\n",
    "# Imports for working with shapefiles\n",
    "import pyproj\n",
    "from shapely.geometry import shape, MultiPolygon\n",
    "from shapely.ops import transform\n",
    "from descartes import PolygonPatch\n",
    "import fiona\n",
    "from fiona.crs import from_epsg"
   ]
  },
  {
   "cell_type": "code",
   "execution_count": 3,
   "metadata": {
    "collapsed": true
   },
   "outputs": [],
   "source": [
    "wisc_census_blocks = 'data/block_groups/shapes/tl_2013_55_bg.shp'"
   ]
  },
  {
   "cell_type": "code",
   "execution_count": 4,
   "metadata": {
    "collapsed": true
   },
   "outputs": [],
   "source": [
    "project = partial(\n",
    "    pyproj.transform,\n",
    "    pyproj.Proj(init='epsg:4326'), \n",
    "    pyproj.Proj(init='epsg:3695')\n",
    ")"
   ]
  },
  {
   "cell_type": "code",
   "execution_count": 41,
   "metadata": {
    "collapsed": false
   },
   "outputs": [],
   "source": [
    "with fiona.open(wisc_census_blocks) as f:\n",
    "    blocks = [\n",
    "        {\n",
    "            'shape': transform(project, shape(block['geometry'])), \n",
    "             'geoid': block['properties']['GEOID']\n",
    "        }\n",
    "        for block in f\n",
    "    ]\n",
    "for block in blocks:\n",
    "    block['centroid'] = np.array([coord[0] for coord in block['shape'].centroid.xy])"
   ]
  },
  {
   "cell_type": "code",
   "execution_count": 46,
   "metadata": {
    "collapsed": false
   },
   "outputs": [],
   "source": [
    "coord_array = np.array([block['centroid'] for block in blocks])"
   ]
  },
  {
   "cell_type": "code",
   "execution_count": 53,
   "metadata": {
    "collapsed": false
   },
   "outputs": [],
   "source": [
    "model = KMeans(n_clusters=8, max_iter=1000, n_jobs=-1)"
   ]
  },
  {
   "cell_type": "code",
   "execution_count": 54,
   "metadata": {
    "collapsed": true
   },
   "outputs": [],
   "source": [
    "labels = model.fit_predict(coord_array)"
   ]
  },
  {
   "cell_type": "code",
   "execution_count": 59,
   "metadata": {
    "collapsed": true
   },
   "outputs": [],
   "source": [
    "for label, block in zip(labels, blocks):\n",
    "    block['label'] = int(label)"
   ]
  },
  {
   "cell_type": "code",
   "execution_count": 60,
   "metadata": {
    "collapsed": false
   },
   "outputs": [
    {
     "data": {
      "text/plain": [
       "future.types.newint.newint"
      ]
     },
     "execution_count": 60,
     "metadata": {},
     "output_type": "execute_result"
    }
   ],
   "source": [
    "type(blocks[0]['label'])"
   ]
  },
  {
   "cell_type": "code",
   "execution_count": null,
   "metadata": {
    "collapsed": true
   },
   "outputs": [],
   "source": []
  }
 ],
 "metadata": {
  "kernelspec": {
   "display_name": "Python 2",
   "language": "python",
   "name": "python2"
  },
  "language_info": {
   "codemirror_mode": {
    "name": "ipython",
    "version": 2
   },
   "file_extension": ".py",
   "mimetype": "text/x-python",
   "name": "python",
   "nbconvert_exporter": "python",
   "pygments_lexer": "ipython2",
   "version": "2.7.13"
  }
 },
 "nbformat": 4,
 "nbformat_minor": 2
}
