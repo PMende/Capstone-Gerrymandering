{
 "cells": [
  {
   "cell_type": "code",
   "execution_count": 23,
   "metadata": {
    "collapsed": true
   },
   "outputs": [],
   "source": [
    "from __future__ import absolute_import, division, print_function\n",
    "from builtins import (\n",
    "    ascii, bytes, chr, dict, filter, hex, input, int, map,\n",
    "    next, oct, open, pow, range, round, str, super, zip)\n",
    "\n",
    "import os\n",
    "from itertools import cycle\n",
    "from functools import partial\n",
    "import random\n",
    "from math import pi\n",
    "\n",
    "import numpy as np\n",
    "\n",
    "# Imports for working with shapefiles\n",
    "import pyproj\n",
    "from shapely.geometry import shape, MultiPolygon\n",
    "from shapely.ops import transform\n",
    "from descartes import PolygonPatch\n",
    "import fiona\n",
    "from fiona.crs import from_epsg"
   ]
  },
  {
   "cell_type": "code",
   "execution_count": 3,
   "metadata": {
    "collapsed": true
   },
   "outputs": [],
   "source": [
    "wisc_census_blocks = 'data/block_groups/shapes/tl_2013_55_bg.shp'"
   ]
  },
  {
   "cell_type": "code",
   "execution_count": 4,
   "metadata": {
    "collapsed": true
   },
   "outputs": [],
   "source": [
    "project = partial(\n",
    "    pyproj.transform,\n",
    "    pyproj.Proj(init='epsg:4326'), \n",
    "    pyproj.Proj(init='epsg:3695')\n",
    ")"
   ]
  },
  {
   "cell_type": "code",
   "execution_count": 8,
   "metadata": {
    "collapsed": false
   },
   "outputs": [],
   "source": [
    "with fiona.open(wisc_census_blocks) as f:\n",
    "    blocks = [\n",
    "        {\n",
    "            'shape': transform(project, shape(block['geometry'])), \n",
    "             'geoid': block['properties']['GEOID']\n",
    "        }\n",
    "        for block in f\n",
    "    ]"
   ]
  },
  {
   "cell_type": "code",
   "execution_count": 33,
   "metadata": {
    "collapsed": false
   },
   "outputs": [],
   "source": [
    "for block in blocks:\n",
    "    block['centroid'] = np.array([coord[0] for coord in block['shape'].centroid.xy])"
   ]
  },
  {
   "cell_type": "code",
   "execution_count": 36,
   "metadata": {
    "collapsed": false
   },
   "outputs": [],
   "source": [
    "test = np.zeros(2)\n",
    "for block in blocks:\n",
    "    test += block['centroid']"
   ]
  },
  {
   "cell_type": "code",
   "execution_count": 37,
   "metadata": {
    "collapsed": false
   },
   "outputs": [
    {
     "data": {
      "text/plain": [
       "array([ 681418.71993816,   -9808.28224096])"
      ]
     },
     "execution_count": 37,
     "metadata": {},
     "output_type": "execute_result"
    }
   ],
   "source": [
    "test/len(blocks)"
   ]
  },
  {
   "cell_type": "code",
   "execution_count": null,
   "metadata": {
    "collapsed": true
   },
   "outputs": [],
   "source": []
  }
 ],
 "metadata": {
  "kernelspec": {
   "display_name": "Python 2",
   "language": "python",
   "name": "python2"
  },
  "language_info": {
   "codemirror_mode": {
    "name": "ipython",
    "version": 2
   },
   "file_extension": ".py",
   "mimetype": "text/x-python",
   "name": "python",
   "nbconvert_exporter": "python",
   "pygments_lexer": "ipython2",
   "version": "2.7.13"
  }
 },
 "nbformat": 4,
 "nbformat_minor": 2
}
