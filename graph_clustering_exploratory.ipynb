{
 "cells": [
  {
   "cell_type": "code",
   "execution_count": 1,
   "metadata": {
    "collapsed": true
   },
   "outputs": [],
   "source": [
    "%load_ext autoreload"
   ]
  },
  {
   "cell_type": "code",
   "execution_count": 2,
   "metadata": {
    "collapsed": true
   },
   "outputs": [],
   "source": [
    "%autoreload 2"
   ]
  },
  {
   "cell_type": "code",
   "execution_count": 3,
   "metadata": {
    "collapsed": true
   },
   "outputs": [],
   "source": [
    "from __future__ import absolute_import, division, print_function\n",
    "from builtins import (\n",
    "    ascii, bytes, chr, dict, filter, hex, input, int, map,\n",
    "    next, oct, open, pow, range, round, str, super, zip)\n",
    "\n",
    "# Standard library imports\n",
    "import os\n",
    "from functools import partial\n",
    "from math import pi\n",
    "import json\n",
    "from collections import defaultdict\n",
    "import random\n",
    "\n",
    "import numpy as np\n",
    "import pandas as pd\n",
    "import networkx as nx\n",
    "\n",
    "# Imports for working with shapefiles\n",
    "import pyproj\n",
    "from shapely.geometry import (\n",
    "    shape,\n",
    "    MultiPolygon,\n",
    "    mapping\n",
    ")\n",
    "from shapely.ops import (\n",
    "    transform,\n",
    "    cascaded_union\n",
    ")\n",
    "import fiona\n",
    "from fiona.crs import from_epsg\n",
    "\n",
    "# local imports\n",
    "from src.modelling.input import shapes_to_graph\n",
    "from src.modelling.clustering import SSGraphKMeans"
   ]
  },
  {
   "cell_type": "code",
   "execution_count": 4,
   "metadata": {
    "collapsed": true
   },
   "outputs": [],
   "source": [
    "%matplotlib inline"
   ]
  },
  {
   "cell_type": "code",
   "execution_count": 5,
   "metadata": {
    "collapsed": true
   },
   "outputs": [],
   "source": [
    "# Create pandas dataframes that have information about each blockgroup\n",
    "poptot_df = pd.read_csv('data/block_groups/pop_tot/DEC_10_SF1_P1_with_ann.csv')\n",
    "poptot_df = poptot_df[['GEO.id2', 'D001']]\n",
    "poptot_df.columns = ['geoid', 'poptot']\n",
    "poptot_df.drop(0, axis=0, inplace=True)\n",
    "poptot_df.set_index('geoid', inplace=True)\n",
    "poptot_df['poptot'] = poptot_df['poptot'].apply(int)"
   ]
  },
  {
   "cell_type": "code",
   "execution_count": 6,
   "metadata": {
    "collapsed": true
   },
   "outputs": [],
   "source": [
    "wisc_census_blocks = 'data/block_groups/shapes/tl_2013_55_bg.shp'\n",
    "\n",
    "# A convenience object for projecting lat/long values\n",
    "# from EPSG 4326 to 3695 (approximate xy mappings for\n",
    "# central Wisconsin)\n",
    "project = partial(\n",
    "    pyproj.transform,\n",
    "    pyproj.Proj(init='epsg:4326'), \n",
    "    pyproj.Proj(init='epsg:3695')\n",
    ")"
   ]
  },
  {
   "cell_type": "code",
   "execution_count": 7,
   "metadata": {
    "collapsed": true
   },
   "outputs": [],
   "source": [
    "# Create a list of blockgroups, which has a shape, a geoid,\n",
    "# and an untransformed shape\n",
    "with fiona.open(wisc_census_blocks) as f:\n",
    "    blocks = [\n",
    "        {\n",
    "            'shape': shape(block['geometry']), \n",
    "            'geoid': block['properties']['GEOID']\n",
    "        }\n",
    "        for block in f\n",
    "    ]"
   ]
  },
  {
   "cell_type": "code",
   "execution_count": 8,
   "metadata": {
    "collapsed": true
   },
   "outputs": [],
   "source": [
    "blocks_graph = shapes_to_graph(blocks)"
   ]
  },
  {
   "cell_type": "code",
   "execution_count": 9,
   "metadata": {
    "collapsed": true
   },
   "outputs": [],
   "source": [
    "block_geoids = [\n",
    "    block['geoid']\n",
    "    for block in blocks\n",
    "]"
   ]
  },
  {
   "cell_type": "code",
   "execution_count": 10,
   "metadata": {
    "collapsed": true
   },
   "outputs": [],
   "source": [
    "block_populations = {\n",
    "    geoid: poptot_df.to_dict()['poptot'][geoid]\n",
    "    for geoid in block_geoids\n",
    "}"
   ]
  },
  {
   "cell_type": "code",
   "execution_count": 23,
   "metadata": {
    "collapsed": true
   },
   "outputs": [],
   "source": [
    "graph_cluster = SSGraphKMeans()"
   ]
  },
  {
   "cell_type": "code",
   "execution_count": 24,
   "metadata": {
    "scrolled": true
   },
   "outputs": [
    {
     "name": "stdout",
     "output_type": "stream",
     "text": [
      "Annealing cluster weights to within 50000.0\n",
      "Annealing cluster 6\n",
      "Calculating metrics of the graph not in cluster 6\n",
      "This will take some time.\n",
      "Finished calculations. Continuing.\n",
      "Annealing cluster 7\n",
      "Calculating metrics of the graph not in cluster 7\n",
      "This will take some time.\n",
      "Finished calculations. Continuing.\n",
      "Reconnecting cluster 5\n",
      "Reconnecting cluster 5\n",
      "Annealing cluster 1\n",
      "Calculating metrics of the graph not in cluster 1\n",
      "This will take some time.\n",
      "Finished calculations. Continuing.\n",
      "Annealing cluster 5\n",
      "Calculating metrics of the graph not in cluster 5\n",
      "This will take some time.\n",
      "Finished calculations. Continuing.\n",
      "Reconnecting cluster 2\n",
      "Reconnecting cluster 4\n",
      "Reconnecting cluster 5\n",
      "Annealing cluster 8\n",
      "Annealing cluster 4\n",
      "Calculating metrics of the graph not in cluster 4\n",
      "This will take some time.\n",
      "Finished calculations. Continuing.\n",
      "Reconnecting cluster 2\n",
      "Reconnecting cluster 2\n",
      "Reconnecting cluster 2\n",
      "Reconnecting cluster 4\n",
      "Reconnecting cluster 4\n",
      "Reconnecting cluster 4\n",
      "Calculating metrics of the graph not in cluster 4\n",
      "This will take some time.\n",
      "Finished calculations. Continuing.\n",
      "Annealing cluster 2\n",
      "Annealing cluster 3\n",
      "Annealing cluster weights to within 43071.4285714\n",
      "Annealing cluster 3\n",
      "Annealing cluster 8\n",
      "Annealing cluster 5\n",
      "Annealing cluster 6\n",
      "Annealing cluster 4\n",
      "Calculating metrics of the graph not in cluster 4\n",
      "This will take some time.\n",
      "Finished calculations. Continuing.\n",
      "Annealing cluster 1\n",
      "Annealing cluster 7\n",
      "Annealing cluster 2\n",
      "Annealing cluster weights to within 36142.8571429\n",
      "Annealing cluster 2\n",
      "Annealing cluster 1\n",
      "Annealing cluster 4\n",
      "Calculating metrics of the graph not in cluster 4\n",
      "This will take some time.\n",
      "Finished calculations. Continuing.\n",
      "Annealing cluster 8\n",
      "Annealing cluster 3\n",
      "Annealing cluster 7\n",
      "Annealing cluster 6\n",
      "Annealing cluster 5\n",
      "Annealing cluster weights to within 29214.2857143\n",
      "Annealing cluster 7\n",
      "Annealing cluster 6\n",
      "Annealing cluster 1\n",
      "Annealing cluster 5\n",
      "Annealing cluster 2\n",
      "Annealing cluster 3\n",
      "Annealing cluster 4\n",
      "Calculating metrics of the graph not in cluster 4\n",
      "This will take some time.\n",
      "Finished calculations. Continuing.\n",
      "Reconnecting cluster 4\n",
      "Reconnecting cluster 4\n",
      "Calculating metrics of the graph not in cluster 4\n",
      "This will take some time.\n",
      "Finished calculations. Continuing.\n",
      "Reconnecting cluster 4\n",
      "Calculating metrics of the graph not in cluster 4\n",
      "This will take some time.\n",
      "Finished calculations. Continuing.\n",
      "Reconnecting cluster 4\n",
      "Calculating metrics of the graph not in cluster 4\n",
      "This will take some time.\n",
      "Finished calculations. Continuing.\n",
      "Reconnecting cluster 4\n",
      "Calculating metrics of the graph not in cluster 4\n",
      "This will take some time.\n"
     ]
    },
    {
     "ename": "KeyboardInterrupt",
     "evalue": "",
     "output_type": "error",
     "traceback": [
      "\u001b[0;31m---------------------------------------------------------------------\u001b[0m",
      "\u001b[0;31mKeyboardInterrupt\u001b[0m                   Traceback (most recent call last)",
      "\u001b[0;32m<ipython-input-24-6df4efda5db5>\u001b[0m in \u001b[0;36m<module>\u001b[0;34m()\u001b[0m\n\u001b[0;32m----> 1\u001b[0;31m \u001b[0mgraph_cluster\u001b[0m\u001b[0;34m.\u001b[0m\u001b[0mfit\u001b[0m\u001b[0;34m(\u001b[0m\u001b[0mblocks_graph\u001b[0m\u001b[0;34m,\u001b[0m \u001b[0mblock_populations\u001b[0m\u001b[0;34m)\u001b[0m\u001b[0;34m\u001b[0m\u001b[0m\n\u001b[0m",
      "\u001b[0;32m/home/pmende/galvanize/Ecclesia/src/modelling/clustering.py\u001b[0m in \u001b[0;36mfit\u001b[0;34m(self, graph, node_weights)\u001b[0m\n\u001b[1;32m    631\u001b[0m                 \u001b[0;32mprint\u001b[0m\u001b[0;34m(\u001b[0m\u001b[0;34m'Annealing cluster {}'\u001b[0m\u001b[0;34m.\u001b[0m\u001b[0mformat\u001b[0m\u001b[0;34m(\u001b[0m\u001b[0mcluster_id\u001b[0m\u001b[0;34m)\u001b[0m\u001b[0;34m)\u001b[0m\u001b[0;34m\u001b[0m\u001b[0m\n\u001b[1;32m    632\u001b[0m                 \u001b[0msys\u001b[0m\u001b[0;34m.\u001b[0m\u001b[0mstdout\u001b[0m\u001b[0;34m.\u001b[0m\u001b[0mflush\u001b[0m\u001b[0;34m(\u001b[0m\u001b[0;34m)\u001b[0m\u001b[0;34m\u001b[0m\u001b[0m\n\u001b[0;32m--> 633\u001b[0;31m                 \u001b[0mself\u001b[0m\u001b[0;34m.\u001b[0m\u001b[0m_anneal\u001b[0m\u001b[0;34m(\u001b[0m\u001b[0mcluster_id\u001b[0m\u001b[0;34m,\u001b[0m \u001b[0mtolerance\u001b[0m\u001b[0;34m)\u001b[0m\u001b[0;34m\u001b[0m\u001b[0m\n\u001b[0m\u001b[1;32m    634\u001b[0m                 \u001b[0;31m# self._reconnect_clusters()\u001b[0m\u001b[0;34m\u001b[0m\u001b[0;34m\u001b[0m\u001b[0m\n\u001b[1;32m    635\u001b[0m \u001b[0;34m\u001b[0m\u001b[0m\n",
      "\u001b[0;32m/home/pmende/galvanize/Ecclesia/src/modelling/clustering.py\u001b[0m in \u001b[0;36m_anneal\u001b[0;34m(self, cluster_id, tol)\u001b[0m\n\u001b[1;32m    770\u001b[0m         \u001b[0;32mwhile\u001b[0m \u001b[0;32mnot\u001b[0m \u001b[0mself\u001b[0m\u001b[0;34m.\u001b[0m\u001b[0m_cluster_within_tolerance\u001b[0m\u001b[0;34m(\u001b[0m\u001b[0mcluster_id\u001b[0m\u001b[0;34m,\u001b[0m \u001b[0mtol\u001b[0m\u001b[0;34m)\u001b[0m\u001b[0;34m:\u001b[0m\u001b[0;34m\u001b[0m\u001b[0m\n\u001b[1;32m    771\u001b[0m             \u001b[0;32mif\u001b[0m \u001b[0mstart_weight\u001b[0m \u001b[0;34m<\u001b[0m \u001b[0mself\u001b[0m\u001b[0;34m.\u001b[0m\u001b[0m_ideal_cluster_weight\u001b[0m\u001b[0;34m:\u001b[0m\u001b[0;34m\u001b[0m\u001b[0m\n\u001b[0;32m--> 772\u001b[0;31m                 \u001b[0mself\u001b[0m\u001b[0;34m.\u001b[0m\u001b[0m_grow_cluster\u001b[0m\u001b[0;34m(\u001b[0m\u001b[0mcluster_id\u001b[0m\u001b[0;34m,\u001b[0m \u001b[0mtol\u001b[0m\u001b[0;34m)\u001b[0m\u001b[0;34m\u001b[0m\u001b[0m\n\u001b[0m\u001b[1;32m    773\u001b[0m             \u001b[0;32melif\u001b[0m \u001b[0mstart_weight\u001b[0m \u001b[0;34m>\u001b[0m \u001b[0mself\u001b[0m\u001b[0;34m.\u001b[0m\u001b[0m_ideal_cluster_weight\u001b[0m\u001b[0;34m:\u001b[0m\u001b[0;34m\u001b[0m\u001b[0m\n\u001b[1;32m    774\u001b[0m                 \u001b[0mself\u001b[0m\u001b[0;34m.\u001b[0m\u001b[0m_shrink_cluster\u001b[0m\u001b[0;34m(\u001b[0m\u001b[0mcluster_id\u001b[0m\u001b[0;34m,\u001b[0m \u001b[0mtol\u001b[0m\u001b[0;34m)\u001b[0m\u001b[0;34m\u001b[0m\u001b[0m\n",
      "\u001b[0;32m/home/pmende/galvanize/Ecclesia/src/modelling/clustering.py\u001b[0m in \u001b[0;36m_grow_cluster\u001b[0;34m(self, cluster_id, tol)\u001b[0m\n\u001b[1;32m    793\u001b[0m         '''\n\u001b[1;32m    794\u001b[0m \u001b[0;34m\u001b[0m\u001b[0m\n\u001b[0;32m--> 795\u001b[0;31m         \u001b[0;32mfor\u001b[0m \u001b[0mnode\u001b[0m \u001b[0;32min\u001b[0m \u001b[0mself\u001b[0m\u001b[0;34m.\u001b[0m\u001b[0m_sorted_remainder\u001b[0m\u001b[0;34m(\u001b[0m\u001b[0mcluster_id\u001b[0m\u001b[0;34m)\u001b[0m\u001b[0;34m:\u001b[0m\u001b[0;34m\u001b[0m\u001b[0m\n\u001b[0m\u001b[1;32m    796\u001b[0m             \u001b[0mself\u001b[0m\u001b[0;34m.\u001b[0m\u001b[0m_reassign_node\u001b[0m\u001b[0;34m(\u001b[0m\u001b[0mnode\u001b[0m\u001b[0;34m,\u001b[0m \u001b[0mcluster_id\u001b[0m\u001b[0;34m,\u001b[0m \u001b[0mborder\u001b[0m\u001b[0;34m=\u001b[0m\u001b[0mTrue\u001b[0m\u001b[0;34m)\u001b[0m\u001b[0;34m\u001b[0m\u001b[0m\n\u001b[1;32m    797\u001b[0m             \u001b[0;32mif\u001b[0m \u001b[0mself\u001b[0m\u001b[0;34m.\u001b[0m\u001b[0m_cluster_within_tolerance\u001b[0m\u001b[0;34m(\u001b[0m\u001b[0mcluster_id\u001b[0m\u001b[0;34m,\u001b[0m \u001b[0mtol\u001b[0m\u001b[0;34m)\u001b[0m\u001b[0;34m:\u001b[0m\u001b[0;34m\u001b[0m\u001b[0m\n",
      "\u001b[0;32m/home/pmende/galvanize/Ecclesia/src/modelling/clustering.py\u001b[0m in \u001b[0;36m_sorted_remainder\u001b[0;34m(self, cluster_id)\u001b[0m\n\u001b[1;32m    812\u001b[0m         \u001b[0;31m# distance of each node in the remainder\u001b[0m\u001b[0;34m\u001b[0m\u001b[0;34m\u001b[0m\u001b[0m\n\u001b[1;32m    813\u001b[0m         btwnnss, hrmnc_cntrlty, dist_from_border = (\n\u001b[0;32m--> 814\u001b[0;31m             \u001b[0mself\u001b[0m\u001b[0;34m.\u001b[0m\u001b[0m_get_remainder_metrics\u001b[0m\u001b[0;34m(\u001b[0m\u001b[0mcluster_id\u001b[0m\u001b[0;34m)\u001b[0m\u001b[0;34m\u001b[0m\u001b[0m\n\u001b[0m\u001b[1;32m    815\u001b[0m         )\n\u001b[1;32m    816\u001b[0m \u001b[0;34m\u001b[0m\u001b[0m\n",
      "\u001b[0;32m/home/pmende/galvanize/Ecclesia/src/modelling/clustering.py\u001b[0m in \u001b[0;36m_get_remainder_metrics\u001b[0;34m(self, cluster_id)\u001b[0m\n\u001b[1;32m    835\u001b[0m         }\n\u001b[1;32m    836\u001b[0m         \u001b[0mremainder_subgraph\u001b[0m \u001b[0;34m=\u001b[0m \u001b[0mself\u001b[0m\u001b[0;34m.\u001b[0m\u001b[0mgraph\u001b[0m\u001b[0;34m.\u001b[0m\u001b[0msubgraph\u001b[0m\u001b[0;34m(\u001b[0m\u001b[0mremainder\u001b[0m\u001b[0;34m)\u001b[0m\u001b[0;34m\u001b[0m\u001b[0m\n\u001b[0;32m--> 837\u001b[0;31m         \u001b[0mbetweenness\u001b[0m \u001b[0;34m=\u001b[0m \u001b[0mnx\u001b[0m\u001b[0;34m.\u001b[0m\u001b[0mbetweenness_centrality\u001b[0m\u001b[0;34m(\u001b[0m\u001b[0mremainder_subgraph\u001b[0m\u001b[0;34m)\u001b[0m\u001b[0;34m\u001b[0m\u001b[0m\n\u001b[0m\u001b[1;32m    838\u001b[0m         \u001b[0mharmonic_centrality\u001b[0m \u001b[0;34m=\u001b[0m \u001b[0mnx\u001b[0m\u001b[0;34m.\u001b[0m\u001b[0mharmonic_centrality\u001b[0m\u001b[0;34m(\u001b[0m\u001b[0mremainder_subgraph\u001b[0m\u001b[0;34m)\u001b[0m\u001b[0;34m\u001b[0m\u001b[0m\n\u001b[1;32m    839\u001b[0m \u001b[0;34m\u001b[0m\u001b[0m\n",
      "\u001b[0;32m/home/pmende/anaconda2/lib/python2.7/site-packages/networkx/algorithms/centrality/betweenness.pyc\u001b[0m in \u001b[0;36mbetweenness_centrality\u001b[0;34m(G, k, normalized, weight, endpoints, seed)\u001b[0m\n\u001b[1;32m    121\u001b[0m             \u001b[0mbetweenness\u001b[0m \u001b[0;34m=\u001b[0m \u001b[0m_accumulate_endpoints\u001b[0m\u001b[0;34m(\u001b[0m\u001b[0mbetweenness\u001b[0m\u001b[0;34m,\u001b[0m \u001b[0mS\u001b[0m\u001b[0;34m,\u001b[0m \u001b[0mP\u001b[0m\u001b[0;34m,\u001b[0m \u001b[0msigma\u001b[0m\u001b[0;34m,\u001b[0m \u001b[0ms\u001b[0m\u001b[0;34m)\u001b[0m\u001b[0;34m\u001b[0m\u001b[0m\n\u001b[1;32m    122\u001b[0m         \u001b[0;32melse\u001b[0m\u001b[0;34m:\u001b[0m\u001b[0;34m\u001b[0m\u001b[0m\n\u001b[0;32m--> 123\u001b[0;31m             \u001b[0mbetweenness\u001b[0m \u001b[0;34m=\u001b[0m \u001b[0m_accumulate_basic\u001b[0m\u001b[0;34m(\u001b[0m\u001b[0mbetweenness\u001b[0m\u001b[0;34m,\u001b[0m \u001b[0mS\u001b[0m\u001b[0;34m,\u001b[0m \u001b[0mP\u001b[0m\u001b[0;34m,\u001b[0m \u001b[0msigma\u001b[0m\u001b[0;34m,\u001b[0m \u001b[0ms\u001b[0m\u001b[0;34m)\u001b[0m\u001b[0;34m\u001b[0m\u001b[0m\n\u001b[0m\u001b[1;32m    124\u001b[0m     \u001b[0;31m# rescaling\u001b[0m\u001b[0;34m\u001b[0m\u001b[0;34m\u001b[0m\u001b[0m\n\u001b[1;32m    125\u001b[0m     betweenness = _rescale(betweenness, len(G),\n",
      "\u001b[0;32m/home/pmende/anaconda2/lib/python2.7/site-packages/networkx/algorithms/centrality/betweenness.pyc\u001b[0m in \u001b[0;36m_accumulate_basic\u001b[0;34m(betweenness, S, P, sigma, s)\u001b[0m\n\u001b[1;32m    289\u001b[0m     \u001b[0;32mwhile\u001b[0m \u001b[0mS\u001b[0m\u001b[0;34m:\u001b[0m\u001b[0;34m\u001b[0m\u001b[0m\n\u001b[1;32m    290\u001b[0m         \u001b[0mw\u001b[0m \u001b[0;34m=\u001b[0m \u001b[0mS\u001b[0m\u001b[0;34m.\u001b[0m\u001b[0mpop\u001b[0m\u001b[0;34m(\u001b[0m\u001b[0;34m)\u001b[0m\u001b[0;34m\u001b[0m\u001b[0m\n\u001b[0;32m--> 291\u001b[0;31m         \u001b[0mcoeff\u001b[0m \u001b[0;34m=\u001b[0m \u001b[0;34m(\u001b[0m\u001b[0;36m1.0\u001b[0m \u001b[0;34m+\u001b[0m \u001b[0mdelta\u001b[0m\u001b[0;34m[\u001b[0m\u001b[0mw\u001b[0m\u001b[0;34m]\u001b[0m\u001b[0;34m)\u001b[0m \u001b[0;34m/\u001b[0m \u001b[0msigma\u001b[0m\u001b[0;34m[\u001b[0m\u001b[0mw\u001b[0m\u001b[0;34m]\u001b[0m\u001b[0;34m\u001b[0m\u001b[0m\n\u001b[0m\u001b[1;32m    292\u001b[0m         \u001b[0;32mfor\u001b[0m \u001b[0mv\u001b[0m \u001b[0;32min\u001b[0m \u001b[0mP\u001b[0m\u001b[0;34m[\u001b[0m\u001b[0mw\u001b[0m\u001b[0;34m]\u001b[0m\u001b[0;34m:\u001b[0m\u001b[0;34m\u001b[0m\u001b[0m\n\u001b[1;32m    293\u001b[0m             \u001b[0mdelta\u001b[0m\u001b[0;34m[\u001b[0m\u001b[0mv\u001b[0m\u001b[0;34m]\u001b[0m \u001b[0;34m+=\u001b[0m \u001b[0msigma\u001b[0m\u001b[0;34m[\u001b[0m\u001b[0mv\u001b[0m\u001b[0;34m]\u001b[0m \u001b[0;34m*\u001b[0m \u001b[0mcoeff\u001b[0m\u001b[0;34m\u001b[0m\u001b[0m\n",
      "\u001b[0;31mKeyboardInterrupt\u001b[0m: "
     ]
    }
   ],
   "source": [
    "graph_cluster.fit(blocks_graph, block_populations)"
   ]
  },
  {
   "cell_type": "code",
   "execution_count": 21,
   "metadata": {
    "scrolled": true
   },
   "outputs": [
    {
     "name": "stdout",
     "output_type": "stream",
     "text": [
      "1 True\n",
      "2 True\n",
      "3 True\n",
      "4 True\n",
      "5 True\n",
      "6 True\n",
      "7 True\n",
      "8 True\n"
     ]
    }
   ],
   "source": [
    "for i in range(1, 9):\n",
    "    print(i, nx.is_connected(blocks_graph.subgraph(graph_cluster.clusters[i])))"
   ]
  },
  {
   "cell_type": "code",
   "execution_count": 22,
   "metadata": {},
   "outputs": [
    {
     "data": {
      "text/plain": [
       "{1: 686204,\n",
       " 2: 378758,\n",
       " 3: 699405,\n",
       " 4: 788029,\n",
       " 5: 575456,\n",
       " 6: 711620,\n",
       " 7: 1123123,\n",
       " 8: 724391}"
      ]
     },
     "execution_count": 22,
     "metadata": {},
     "output_type": "execute_result"
    }
   ],
   "source": [
    "graph_cluster.cluster_weights"
   ]
  },
  {
   "cell_type": "code",
   "execution_count": null,
   "metadata": {
    "collapsed": true
   },
   "outputs": [],
   "source": [
    "'550759610002' in graph_cluster.clusters[6].border"
   ]
  },
  {
   "cell_type": "code",
   "execution_count": null,
   "metadata": {
    "collapsed": true
   },
   "outputs": [],
   "source": [
    "graph_cluster.clusters.keys()"
   ]
  },
  {
   "cell_type": "code",
   "execution_count": null,
   "metadata": {
    "collapsed": true
   },
   "outputs": [],
   "source": [
    "members_border_totals = [\n",
    "    (len(graph_cluster.clusters[i]), len(graph_cluster.clusters[i].border))\n",
    "    for i in range(1, 9)\n",
    "]"
   ]
  },
  {
   "cell_type": "code",
   "execution_count": null,
   "metadata": {
    "collapsed": true
   },
   "outputs": [],
   "source": [
    "members_border_totals"
   ]
  },
  {
   "cell_type": "code",
   "execution_count": null,
   "metadata": {
    "collapsed": true
   },
   "outputs": [],
   "source": [
    "foo = list(nx.connected_component_subgraphs(blocks_graph.subgraph(graph_cluster.clusters[7])))"
   ]
  },
  {
   "cell_type": "code",
   "execution_count": null,
   "metadata": {
    "collapsed": true
   },
   "outputs": [],
   "source": [
    "foo[1].nodes()"
   ]
  },
  {
   "cell_type": "code",
   "execution_count": null,
   "metadata": {
    "collapsed": true
   },
   "outputs": [],
   "source": []
  },
  {
   "cell_type": "code",
   "execution_count": null,
   "metadata": {
    "collapsed": true
   },
   "outputs": [],
   "source": []
  }
 ],
 "metadata": {
  "kernelspec": {
   "display_name": "Python 3",
   "language": "python",
   "name": "python3"
  },
  "language_info": {
   "codemirror_mode": {
    "name": "ipython",
    "version": 3
   },
   "file_extension": ".py",
   "mimetype": "text/x-python",
   "name": "python",
   "nbconvert_exporter": "python",
   "pygments_lexer": "ipython3",
   "version": "3.6.1"
  }
 },
 "nbformat": 4,
 "nbformat_minor": 2
}
