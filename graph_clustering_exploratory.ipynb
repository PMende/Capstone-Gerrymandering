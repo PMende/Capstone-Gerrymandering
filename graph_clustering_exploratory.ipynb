{
 "cells": [
  {
   "cell_type": "code",
   "execution_count": 1,
   "metadata": {
    "collapsed": true
   },
   "outputs": [],
   "source": [
    "%load_ext autoreload"
   ]
  },
  {
   "cell_type": "code",
   "execution_count": 2,
   "metadata": {
    "collapsed": true
   },
   "outputs": [],
   "source": [
    "%autoreload 2"
   ]
  },
  {
   "cell_type": "code",
   "execution_count": 9,
   "metadata": {
    "collapsed": false
   },
   "outputs": [],
   "source": [
    "from __future__ import absolute_import, division, print_function\n",
    "from builtins import (\n",
    "    ascii, bytes, chr, dict, filter, hex, input, int, map,\n",
    "    next, oct, open, pow, range, round, str, super, zip)\n",
    "\n",
    "# Standard library imports\n",
    "import os\n",
    "from functools import partial\n",
    "from math import pi\n",
    "import json\n",
    "from collections import defaultdict\n",
    "import random\n",
    "\n",
    "import numpy as np\n",
    "import pandas as pd\n",
    "import networkx as nx\n",
    "\n",
    "# Imports for working with shapefiles\n",
    "import pyproj\n",
    "from shapely.geometry import (\n",
    "    shape,\n",
    "    MultiPolygon,\n",
    "    mapping\n",
    ")\n",
    "from shapely.ops import (\n",
    "    transform,\n",
    "    cascaded_union\n",
    ")\n",
    "import fiona\n",
    "from fiona.crs import from_epsg\n",
    "\n",
    "# local imports\n",
    "from src.modelling.input import shapes_to_graph"
   ]
  },
  {
   "cell_type": "code",
   "execution_count": 4,
   "metadata": {
    "collapsed": true
   },
   "outputs": [],
   "source": [
    "# Create pandas dataframes that have information about each blockgroup\n",
    "poptot_df = pd.read_csv('data/block_groups/pop_tot/DEC_10_SF1_P1_with_ann.csv')\n",
    "poptot_df = poptot_df[['GEO.id2', 'D001']]\n",
    "poptot_df.columns = ['geoid', 'poptot']\n",
    "poptot_df.drop(0, axis=0, inplace=True)\n",
    "poptot_df.set_index('geoid', inplace=True)"
   ]
  },
  {
   "cell_type": "code",
   "execution_count": 5,
   "metadata": {
    "collapsed": true
   },
   "outputs": [],
   "source": [
    "wisc_census_blocks = 'data/block_groups/shapes/tl_2013_55_bg.shp'\n",
    "\n",
    "# A convenience object for projecting lat/long values\n",
    "# from EPSG 4326 to 3695 (approximate xy mappings for\n",
    "# central Wisconsin)\n",
    "project = partial(\n",
    "    pyproj.transform,\n",
    "    pyproj.Proj(init='epsg:4326'), \n",
    "    pyproj.Proj(init='epsg:3695')\n",
    ")"
   ]
  },
  {
   "cell_type": "code",
   "execution_count": 6,
   "metadata": {
    "collapsed": true
   },
   "outputs": [],
   "source": [
    "# Create a list of blockgroups, which has a shape, a geoid,\n",
    "# and an untransformed shape\n",
    "with fiona.open(wisc_census_blocks) as f:\n",
    "    blocks = [\n",
    "        {\n",
    "            'shape': shape(block['geometry']), \n",
    "            'geoid': block['properties']['GEOID']\n",
    "        }\n",
    "        for block in f\n",
    "    ]"
   ]
  },
  {
   "cell_type": "code",
   "execution_count": 7,
   "metadata": {
    "collapsed": true
   },
   "outputs": [],
   "source": [
    "blocks_graph = shapes_to_graph(blocks)"
   ]
  },
  {
   "cell_type": "code",
   "execution_count": 8,
   "metadata": {
    "collapsed": false
   },
   "outputs": [
    {
     "data": {
      "text/plain": [
       "14010"
      ]
     },
     "execution_count": 8,
     "metadata": {},
     "output_type": "execute_result"
    }
   ],
   "source": [
    "blocks_graph.number_of_edges()"
   ]
  },
  {
   "cell_type": "code",
   "execution_count": 11,
   "metadata": {
    "collapsed": false
   },
   "outputs": [
    {
     "data": {
      "text/plain": [
       "[u'551010013024',\n",
       " u'551010004003',\n",
       " u'551010004001',\n",
       " u'551010004004',\n",
       " u'551010013023']"
      ]
     },
     "execution_count": 11,
     "metadata": {},
     "output_type": "execute_result"
    }
   ],
   "source": [
    "blocks_graph.neighbors('551010004002')"
   ]
  },
  {
   "cell_type": "code",
   "execution_count": 12,
   "metadata": {
    "collapsed": true
   },
   "outputs": [],
   "source": [
    "blocks_shortest_distances = nx.shortest_path_length(blocks_graph)"
   ]
  },
  {
   "cell_type": "code",
   "execution_count": 28,
   "metadata": {
    "collapsed": false
   },
   "outputs": [
    {
     "data": {
      "text/plain": [
       "0"
      ]
     },
     "execution_count": 28,
     "metadata": {},
     "output_type": "execute_result"
    }
   ],
   "source": [
    "blocks_shortest_distances[blocks[0]['geoid']]['551010004002']"
   ]
  },
  {
   "cell_type": "code",
   "execution_count": 20,
   "metadata": {
    "collapsed": false
   },
   "outputs": [
    {
     "data": {
      "text/plain": [
       "u'551010004002'"
      ]
     },
     "execution_count": 20,
     "metadata": {},
     "output_type": "execute_result"
    }
   ],
   "source": [
    "blocks[0]['geoid']"
   ]
  },
  {
   "cell_type": "code",
   "execution_count": 18,
   "metadata": {
    "collapsed": false
   },
   "outputs": [
    {
     "data": {
      "text/plain": [
       "array([ 50000.        ,  43071.42857143,  36142.85714286,  29214.28571429,\n",
       "        22285.71428571,  15357.14285714,   8428.57142857,   1500.        ])"
      ]
     },
     "execution_count": 18,
     "metadata": {},
     "output_type": "execute_result"
    }
   ],
   "source": [
    "np.linspace(5e4, 1.5e3, 8)"
   ]
  },
  {
   "cell_type": "code",
   "execution_count": 15,
   "metadata": {
    "collapsed": false
   },
   "outputs": [],
   "source": [
    "rand_lst = random.sample(range(8), 8)"
   ]
  },
  {
   "cell_type": "code",
   "execution_count": 16,
   "metadata": {
    "collapsed": false
   },
   "outputs": [
    {
     "data": {
      "text/plain": [
       "[1, 2, 3, 6, 0, 7, 4, 5]"
      ]
     },
     "execution_count": 16,
     "metadata": {},
     "output_type": "execute_result"
    }
   ],
   "source": [
    "rand_lst"
   ]
  },
  {
   "cell_type": "code",
   "execution_count": 19,
   "metadata": {
    "collapsed": true
   },
   "outputs": [],
   "source": [
    "foo = {1: set('abcde'), 2: set('fghi'), 3: set('jklmnop')}"
   ]
  },
  {
   "cell_type": "code",
   "execution_count": 24,
   "metadata": {
    "collapsed": false
   },
   "outputs": [],
   "source": [
    "bool_list = [\n",
    "    any([\n",
    "        char in cluster\n",
    "        for cluster in foo.values()\n",
    "    ])\n",
    "    for char in 'abcdefghijklmnopq'\n",
    "]"
   ]
  },
  {
   "cell_type": "code",
   "execution_count": 25,
   "metadata": {
    "collapsed": false
   },
   "outputs": [
    {
     "data": {
      "text/plain": [
       "[True,\n",
       " True,\n",
       " True,\n",
       " True,\n",
       " True,\n",
       " True,\n",
       " True,\n",
       " True,\n",
       " True,\n",
       " True,\n",
       " True,\n",
       " True,\n",
       " True,\n",
       " True,\n",
       " True,\n",
       " True,\n",
       " False]"
      ]
     },
     "execution_count": 25,
     "metadata": {},
     "output_type": "execute_result"
    }
   ],
   "source": [
    "bool_list"
   ]
  },
  {
   "cell_type": "code",
   "execution_count": null,
   "metadata": {
    "collapsed": true
   },
   "outputs": [],
   "source": []
  }
 ],
 "metadata": {
  "kernelspec": {
   "display_name": "Python 2",
   "language": "python",
   "name": "python2"
  },
  "language_info": {
   "codemirror_mode": {
    "name": "ipython",
    "version": 2
   },
   "file_extension": ".py",
   "mimetype": "text/x-python",
   "name": "python",
   "nbconvert_exporter": "python",
   "pygments_lexer": "ipython2",
   "version": "2.7.13"
  }
 },
 "nbformat": 4,
 "nbformat_minor": 2
}
